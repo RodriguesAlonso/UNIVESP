{
 "metadata": {
  "language_info": {
   "codemirror_mode": {
    "name": "ipython",
    "version": 3
   },
   "file_extension": ".py",
   "mimetype": "text/x-python",
   "name": "python",
   "nbconvert_exporter": "python",
   "pygments_lexer": "ipython3",
   "version": "3.9.1-final"
  },
  "orig_nbformat": 2,
  "kernelspec": {
   "name": "python3",
   "display_name": "Python 3.9.1 64-bit",
   "metadata": {
    "interpreter": {
     "hash": "76a9b06e395c27944997c0baffd01ce097b273a469b62c262397f0231866b12a"
    }
   }
  }
 },
 "nbformat": 4,
 "nbformat_minor": 2,
 "cells": [
  {
   "source": [
    "import numpy as np"
   ],
   "cell_type": "markdown",
   "metadata": {}
  },
  {
   "source": [
    "#pensar shape de cada array\n",
    "a = np.array([1,2,3,4,5,6,7])\n",
    "print(a) \n",
    "print(f'Shape: {np.shape(a)}')\n",
    "b = np.array([[1,2,3,4], [5,6,7,8]])\n",
    "print(b)\n",
    "print(f'Shape 2, 4 {np.shape(b)}')\n",
    "c = np.zeros((3,4))\n",
    "print(c)            \n",
    "print(f'Shape 3, 4 {np.shape(c)}')"
   ],
   "cell_type": "markdown",
   "metadata": {}
  },
  {
   "source": [
    "# Crie um array de uma dimenção com 20 elementos inteiros aletórios entre 0 e 23bb\n",
    "print(\"funciona\")\n",
    "n1 = np.array([1,2,3])\n",
    "n1 = np.random.randint(23,size = (20))\n",
    "print(n1)"
   ],
   "cell_type": "markdown",
   "metadata": {}
  },
  {
   "source": [
    "# Crie um array de uns com shape (4, 5)\n",
    "n2 = np.array(np.random.randint(20, size = (4, 5)))\n",
    "print(n2)"
   ],
   "cell_type": "markdown",
   "metadata": {}
  },
  {
   "cell_type": "code",
   "execution_count": 50,
   "metadata": {},
   "outputs": [
    {
     "output_type": "stream",
     "name": "stdout",
     "text": [
      "[[1. 1.]\n [1. 1.]\n [1. 1.]\n [1. 1.]]\n[[77. 77.]\n [77. 77.]\n [77. 77.]\n [77. 77.]]\n"
     ]
    }
   ],
   "source": [
    "# Crie um array shape (4, 2) onde cada entrada vale 77\n",
    "# (Dica: Talvez vc tenha que usar uma multiplicação)\n",
    "n3 = np.ones((4, 2))\n",
    "print(n3)\n",
    "n3 *= 77\n",
    "print (n3)\n"
   ]
  }
 ]
}