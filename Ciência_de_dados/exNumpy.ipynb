{
 "cells": [
  {
   "cell_type": "code",
   "execution_count": 1,
   "metadata": {},
   "outputs": [],
   "source": [
    "import numpy as np"
   ]
  },
  {
   "cell_type": "code",
   "execution_count": null,
   "metadata": {},
   "outputs": [],
   "source": [
    "a = np.array([1,2,3,4])\r\n",
    "print(a)"
   ]
  },
  {
   "cell_type": "code",
   "execution_count": 4,
   "metadata": {},
   "outputs": [
    {
     "name": "stdout",
     "output_type": "stream",
     "text": [
      "shape: 7,1: (7,)\n",
      "shape: 2,4 (2, 4)\n",
      "shape: 3,4 (3, 4)\n"
     ]
    }
   ],
   "source": [
    "#pensar shape de cada array\r\n",
    "a =np.array([1,2,3,4,5,6,7])\r\n",
    "print (f'shape: 7,1: {np.shape(a)}')\r\n",
    "b =  np.array([[1,2,3,4], \r\n",
    "                [5,6,7,8]])\r\n",
    "print(f'shape: 2,4 {np.shape(b)}')                \r\n",
    "c = np.zeros((3,4))\r\n",
    "print(f'shape: 3,4 {np.shape(c)}')"
   ]
  },
  {
   "cell_type": "code",
   "execution_count": 22,
   "metadata": {},
   "outputs": [
    {
     "data": {
      "text/plain": "array([ 9,  9,  1, 15, 17, 16,  2, 19,  2,  6, 21,  6,  5, 14, 14, 13,  7,\n       21,  0,  2])"
     },
     "execution_count": 22,
     "metadata": {},
     "output_type": "execute_result"
    }
   ],
   "source": [
    "# Crie um array de uma dimenção com 20 elementos inteiros aletórios entre 0 e 23bb\r\n",
    "a = np.array(np.random.randint(23, size=(20,)))\r\n",
    "a\r\n",
    "\r\n"
   ]
  },
  {
   "cell_type": "markdown",
   "metadata": {},
   "source": [
    "#crie um array com shape (4,5) com as entradas com valor 77\r\n",
    "a = np.ones((4, 2))\r\n",
    "print(a * 77)\r\n",
    "a"
   ]
  },
  {
   "cell_type": "code",
   "execution_count": 79,
   "metadata": {},
   "outputs": [
    {
     "name": "stdout",
     "output_type": "stream",
     "text": [
      "0\n",
      "10\n",
      "20\n",
      "30\n",
      "40\n",
      "50\n",
      "60\n",
      "70\n",
      "80\n",
      "90\n",
      "100\n"
     ]
    },
    {
     "data": {
      "text/plain": "array([  0,  10,  20,  30,  40,  50,  60,  70,  80,  90, 100])"
     },
     "execution_count": 79,
     "metadata": {},
     "output_type": "execute_result"
    }
   ],
   "source": [
    "# Gere um array chamado my_sequence com os números 0, 10, 20, 30... 90, 100\r\n",
    "a =np.random.randint(1, size = (11))\r\n",
    "for i in range(0, len(a)):\r\n",
    "    a[i] = i * 10\r\n",
    "    print(a[i])\r\n",
    "a    "
   ]
  },
  {
   "cell_type": "code",
   "execution_count": null,
   "metadata": {},
   "outputs": [],
   "source": [
    "#"
   ]
  }
 ],
 "metadata": {
  "kernelspec": {
   "display_name": "Python 3.9.1 64-bit",
   "metadata": {
    "interpreter": {
     "hash": "76a9b06e395c27944997c0baffd01ce097b273a469b62c262397f0231866b12a"
    }
   },
   "name": "python3"
  },
  "language_info": {
   "codemirror_mode": {
    "name": "ipython",
    "version": 3
   },
   "file_extension": ".py",
   "mimetype": "text/x-python",
   "name": "python",
   "nbconvert_exporter": "python",
   "pygments_lexer": "ipython3",
   "version": "3.9.1"
  },
  "orig_nbformat": 2
 },
 "nbformat": 4,
 "nbformat_minor": 2
}