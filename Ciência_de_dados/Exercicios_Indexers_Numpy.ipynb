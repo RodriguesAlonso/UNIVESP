{
 "cells": [
  {
   "cell_type": "code",
   "execution_count": 2,
   "metadata": {
    "collapsed": true
   },
   "outputs": [],
   "source": [
    "# Importando a biblioteca\r\n",
    "import numpy as np"
   ]
  },
  {
   "cell_type": "markdown",
   "metadata": {},
   "source": [
    "### Indexando"
   ]
  },
  {
   "cell_type": "code",
   "execution_count": 42,
   "metadata": {},
   "outputs": [
    {
     "name": "stdout",
     "output_type": "stream",
     "text": [
      "[44 48 14 40 28 33 27 47 23  6 32 36  0 46 43]\n"
     ]
    }
   ],
   "source": [
    "my_array = np.random.randint(50, size=(15,))\n",
    "print(my_array)"
   ]
  },
  {
   "cell_type": "code",
   "execution_count": 44,
   "metadata": {
    "collapsed": true
   },
   "outputs": [
    {
     "data": {
      "text/plain": "array([33, 27, 47, 23,  6, 32, 36])"
     },
     "execution_count": 44,
     "metadata": {},
     "output_type": "execute_result"
    }
   ],
   "source": [
    "# Selecione todos os elementos entre o quinto e o decimo primeiro (intervalo fechado)\r\n",
    "\r\n"
   ]
  },
  {
   "cell_type": "code",
   "execution_count": 18,
   "metadata": {
    "collapsed": true
   },
   "outputs": [
    {
     "name": "stdout",
     "output_type": "stream",
     "text": [
      "[24 15 12 26  3 22 12  1 45 32  1 40 47  9  4]\n",
      "[ True  True  True  True False  True  True False  True  True False  True\n",
      "  True False False]\n",
      "[24 15 12 26 22 12 45 32 40 47]\n"
     ]
    }
   ],
   "source": [
    "# Selecione todos os elementos maiores que 20\r\n"
   ]
  },
  {
   "cell_type": "code",
   "execution_count": 11,
   "metadata": {
    "collapsed": true
   },
   "outputs": [],
   "source": [
    "my_matrix = np.array([[1, 2, 3, 4],\n",
    "                      [5, 6, 7, 8],\n",
    "                      [9, 10, 11, 12],\n",
    "                      [13, 14, 15, 16]])"
   ]
  },
  {
   "cell_type": "code",
   "execution_count": 19,
   "metadata": {
    "collapsed": true
   },
   "outputs": [
    {
     "data": {
      "text/plain": "3"
     },
     "execution_count": 19,
     "metadata": {},
     "output_type": "execute_result"
    }
   ],
   "source": [
    "# Selecione o elemento na primeira linha da terceira coluna\r\n"
   ]
  },
  {
   "cell_type": "code",
   "execution_count": 20,
   "metadata": {
    "collapsed": true
   },
   "outputs": [
    {
     "data": {
      "text/plain": "4"
     },
     "execution_count": 20,
     "metadata": {},
     "output_type": "execute_result"
    }
   ],
   "source": [
    "# Selecione o elemento na primeira linha da ultima coluna\r\n"
   ]
  },
  {
   "cell_type": "code",
   "execution_count": 59,
   "metadata": {
    "collapsed": true
   },
   "outputs": [
    {
     "name": "stdout",
     "output_type": "stream",
     "text": [
      "[[ 6  7]\n",
      " [10 11]]\n"
     ]
    }
   ],
   "source": [
    "# Selecione os elementos da matriz para obter o seguinte\r\n",
    "# [[6, 7],\r\n",
    "#  [10, 11]]\r\n"
   ]
  },
  {
   "cell_type": "code",
   "execution_count": 61,
   "metadata": {
    "collapsed": true
   },
   "outputs": [
    {
     "name": "stdout",
     "output_type": "stream",
     "text": [
      "[[2 3 4]\n",
      " [6 7 8]]\n"
     ]
    }
   ],
   "source": [
    "# Selecione os elementos da matriz para obter o seguinte\r\n",
    "# [[2, 3, 4],\r\n",
    "#  [6, 7, 8]]\r\n"
   ]
  },
  {
   "cell_type": "code",
   "execution_count": 62,
   "metadata": {
    "collapsed": true
   },
   "outputs": [
    {
     "data": {
      "text/plain": "16"
     },
     "execution_count": 62,
     "metadata": {},
     "output_type": "execute_result"
    }
   ],
   "source": [
    "# Selecione os elementos da ultima coluna inteira\r\n"
   ]
  },
  {
   "cell_type": "code",
   "execution_count": 65,
   "metadata": {
    "collapsed": true
   },
   "outputs": [
    {
     "data": {
      "text/plain": "array([5, 6, 7, 8])"
     },
     "execution_count": 65,
     "metadata": {},
     "output_type": "execute_result"
    }
   ],
   "source": [
    "# Selecione os elementos da 2a linha inteira\r\n"
   ]
  },
  {
   "cell_type": "markdown",
   "metadata": {},
   "source": [
    "### Operações"
   ]
  },
  {
   "cell_type": "code",
   "execution_count": 3,
   "metadata": {},
   "outputs": [
    {
     "name": "stdout",
     "output_type": "stream",
     "text": [
      "[7 3 2 0 6]\n"
     ]
    }
   ],
   "source": [
    "my_array = np.random.randint(10, size=(5,))\n",
    "print(my_array)"
   ]
  },
  {
   "cell_type": "code",
   "execution_count": 4,
   "metadata": {
    "collapsed": true
   },
   "outputs": [
    {
     "name": "stdout",
     "output_type": "stream",
     "text": [
      "[17 13 12 10 16]\n"
     ]
    }
   ],
   "source": [
    "# Some 10 a todos os elementos de my_array\r\n",
    "print(my_array + 10)"
   ]
  },
  {
   "cell_type": "code",
   "execution_count": 5,
   "metadata": {
    "collapsed": true
   },
   "outputs": [
    {
     "name": "stdout",
     "output_type": "stream",
     "text": [
      "[28 12  8  0 24]\n"
     ]
    }
   ],
   "source": [
    "# Multiplique todos os elementos de my_array por 4\r\n",
    "print(my_array * 4)"
   ]
  },
  {
   "cell_type": "code",
   "execution_count": 9,
   "metadata": {
    "collapsed": true
   },
   "outputs": [
    {
     "name": "stdout",
     "output_type": "stream",
     "text": [
      "[7 3 2 0 6]\n",
      "18\n"
     ]
    }
   ],
   "source": [
    "# Obtenha a soma de todos os elementos de my_array\r\n",
    "print(my_array)\r\n",
    "print(np.sum(my_array))"
   ]
  },
  {
   "cell_type": "code",
   "execution_count": 14,
   "metadata": {
    "collapsed": true
   },
   "outputs": [
    {
     "name": "stdout",
     "output_type": "stream",
     "text": [
      "3.6\n",
      "3.6\n"
     ]
    }
   ],
   "source": [
    "# Obtenha a média de todos os elementos de my_array\r\n",
    "x = len(my_array)\r\n",
    "y = np.sum(my_array)\r\n",
    "print(y / x)\r\n",
    "print(np.mean(my_array))"
   ]
  },
  {
   "cell_type": "code",
   "execution_count": 22,
   "metadata": {
    "collapsed": true
   },
   "outputs": [
    {
     "name": "stdout",
     "output_type": "stream",
     "text": [
      "7\n",
      "O idndice maior elemento é my_array[0] = 7\n",
      "7\n"
     ]
    }
   ],
   "source": [
    "# Obtenha o indice do maior elemento de my_array\r\n",
    "comp = 0\r\n",
    "maior = 0\r\n",
    "for x in my_array:\r\n",
    "    if x > maior:\r\n",
    "        maior = x\r\n",
    "print(maior)\r\n",
    "for x in my_array:\r\n",
    "    if x == 7:\r\n",
    "        print(f'O idndice de maior elemento é my_array[{comp}] = {maior}')\r\n",
    "print(np.max(my_array))"
   ]
  },
  {
   "cell_type": "code",
   "execution_count": 23,
   "metadata": {},
   "outputs": [
    {
     "name": "stdout",
     "output_type": "stream",
     "text": [
      "[6 7 2 9 6] \n",
      "\n",
      "[7 8 1 4 9]\n"
     ]
    }
   ],
   "source": [
    "my_array = np.random.randint(10, size=(5,))\n",
    "my_other_array = np.random.randint(10, size=(5,))\n",
    "print(my_array, '\\n')\n",
    "print(my_other_array)"
   ]
  },
  {
   "cell_type": "code",
   "execution_count": 24,
   "metadata": {
    "collapsed": true
   },
   "outputs": [
    {
     "name": "stdout",
     "output_type": "stream",
     "text": [
      "[13 15  3 13 15]\n"
     ]
    }
   ],
   "source": [
    "# Some my_array elemento por elemento em cada linha de my_other_array\r\n",
    "print(my_array + my_other_array)"
   ]
  },
  {
   "cell_type": "code",
   "execution_count": 45,
   "metadata": {},
   "outputs": [
    {
     "name": "stdout",
     "output_type": "stream",
     "text": [
      "[[5 7 6 6]\n",
      " [4 3 6 7]\n",
      " [4 7 3 3]\n",
      " [9 8 9 6]\n",
      " [6 0 9 5]] \n",
      "\n",
      "[[1 4 0 2 3]\n",
      " [1 2 0 6 4]\n",
      " [7 9 7 5 3]\n",
      " [3 7 3 0 2]\n",
      " [6 2 4 9 3]\n",
      " [8 0 8 5 9]\n",
      " [0 7 5 0 5]\n",
      " [7 1 7 0 5]\n",
      " [0 8 4 4 2]\n",
      " [6 3 5 7 3]]\n"
     ]
    }
   ],
   "source": [
    "my_array = np.random.randint(10, size=(5,4))\n",
    "my_other_array = np.random.randint(10, size=(10,5))\n",
    "print(my_array, '\\n')\n",
    "print(my_other_array)"
   ]
  },
  {
   "cell_type": "code",
   "execution_count": 47,
   "metadata": {
    "collapsed": true
   },
   "outputs": [
    {
     "ename": "ValueError",
     "evalue": "shapes (5,4) and (10,5) not aligned: 4 (dim 1) != 10 (dim 0)",
     "output_type": "error",
     "traceback": [
      "\u001b[1;31m---------------------------------------------------------------------------\u001b[0m",
      "\u001b[1;31mValueError\u001b[0m                                Traceback (most recent call last)",
      "\u001b[1;32m<ipython-input-47-af31e0bfe82f>\u001b[0m in \u001b[0;36m<module>\u001b[1;34m\u001b[0m\n\u001b[0;32m      1\u001b[0m \u001b[1;31m# Faça a multiplicação entre my_other_array e my_array\u001b[0m\u001b[1;33m\u001b[0m\u001b[1;33m\u001b[0m\u001b[1;33m\u001b[0m\u001b[0m\n\u001b[1;32m----> 2\u001b[1;33m \u001b[0mprint\u001b[0m\u001b[1;33m(\u001b[0m\u001b[0mnp\u001b[0m\u001b[1;33m.\u001b[0m\u001b[0mdot\u001b[0m\u001b[1;33m(\u001b[0m\u001b[0mmy_array\u001b[0m\u001b[1;33m,\u001b[0m \u001b[0mmy_other_array\u001b[0m\u001b[1;33m)\u001b[0m\u001b[1;33m)\u001b[0m\u001b[1;33m\u001b[0m\u001b[1;33m\u001b[0m\u001b[0m\n\u001b[0m\u001b[0;32m      3\u001b[0m \u001b[1;33m\u001b[0m\u001b[0m\n\u001b[0;32m      4\u001b[0m \u001b[1;31m#print (my_array * my_other_array)\u001b[0m\u001b[1;33m\u001b[0m\u001b[1;33m\u001b[0m\u001b[1;33m\u001b[0m\u001b[0m\n",
      "\u001b[1;32m<__array_function__ internals>\u001b[0m in \u001b[0;36mdot\u001b[1;34m(*args, **kwargs)\u001b[0m\n",
      "\u001b[1;31mValueError\u001b[0m: shapes (5,4) and (10,5) not aligned: 4 (dim 1) != 10 (dim 0)"
     ]
    }
   ],
   "source": [
    "# Faça a multiplicação entre my_other_array e my_array\r\n",
    "print(np.dot(my_array, my_other_array))\r\n",
    "\r\n",
    "#print (my_array * my_other_array)"
   ]
  },
  {
   "cell_type": "code",
   "execution_count": 82,
   "metadata": {
    "collapsed": true
   },
   "outputs": [
    {
     "name": "stdout",
     "output_type": "stream",
     "text": [
      "[17 20 28 20 22 15 22 11 17 27]\n"
     ]
    }
   ],
   "source": [
    "# Descubra a soma dos valores de cada linha de my_other_array\r\n",
    "# (Dica: Pesquise sobre o atributo axis da função de soma)\r\n",
    "\r\n"
   ]
  },
  {
   "cell_type": "code",
   "execution_count": 83,
   "metadata": {},
   "outputs": [
    {
     "name": "stdout",
     "output_type": "stream",
     "text": [
      "[[9 7 4 3]\n",
      " [8 6 2 3]\n",
      " [5 9 2 8]\n",
      " [3 6 8 0]\n",
      " [1 5 2 8]]\n"
     ]
    }
   ],
   "source": []
  },
  {
   "cell_type": "code",
   "execution_count": 92,
   "metadata": {
    "collapsed": true
   },
   "outputs": [
    {
     "name": "stdout",
     "output_type": "stream",
     "text": [
      "[[9 7 4 3 8 6 2 3 5 9 2 8 3 6 8 0 1 5 2 8]]\n"
     ]
    }
   ],
   "source": [
    "# Usando reshape transforme a matriz acima em um vetor (Concatendo a linha de baixo na de cima)\r\n"
   ]
  },
  {
   "cell_type": "code",
   "execution_count": 93,
   "metadata": {},
   "outputs": [
    {
     "data": {
      "text/plain": "array([[ 0,  1,  2,  3,  4,  5,  6,  7],\n       [ 8,  9, 10, 11, 12, 13, 14, 15]])"
     },
     "execution_count": 93,
     "metadata": {},
     "output_type": "execute_result"
    }
   ],
   "source": [
    "np.array([[ 0,  1,  2,  3,  4,  5,  6,  7],\n",
    "          [ 8,  9, 10, 11, 12, 13, 14, 15]])"
   ]
  },
  {
   "cell_type": "code",
   "execution_count": 103,
   "metadata": {
    "collapsed": true
   },
   "outputs": [
    {
     "data": {
      "text/plain": "array([[ 0,  1,  2,  3,  4,  5,  6,  7],\n       [ 8,  9, 10, 11, 12, 13, 14, 15]])"
     },
     "execution_count": 103,
     "metadata": {},
     "output_type": "execute_result"
    }
   ],
   "source": [
    "# Gere a array anterior usando np.arange e a função reshape\r\n"
   ]
  }
 ],
 "metadata": {
  "kernelspec": {
   "display_name": "Python 3.9.1 64-bit",
   "metadata": {
    "interpreter": {
     "hash": "76a9b06e395c27944997c0baffd01ce097b273a469b62c262397f0231866b12a"
    }
   },
   "name": "python3"
  },
  "language_info": {
   "codemirror_mode": {
    "name": "ipython",
    "version": 3
   },
   "file_extension": ".py",
   "mimetype": "text/x-python",
   "name": "python",
   "nbconvert_exporter": "python",
   "pygments_lexer": "ipython3",
   "version": "3.9.1"
  }
 },
 "nbformat": 4,
 "nbformat_minor": 2
}