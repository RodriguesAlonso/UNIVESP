{
  "nbformat": 4,
  "nbformat_minor": 0,
  "metadata": {
    "colab": {
      "provenance": [],
      "toc_visible": true,
      "authorship_tag": "ABX9TyNHaiJFNjRVp2N5YcSqUahS",
      "include_colab_link": true
    },
    "kernelspec": {
      "name": "python3",
      "display_name": "Python 3"
    },
    "language_info": {
      "name": "python"
    }
  },
  "cells": [
    {
      "cell_type": "markdown",
      "metadata": {
        "id": "view-in-github",
        "colab_type": "text"
      },
      "source": [
        "<a href=\"https://colab.research.google.com/github/RodriguesAlonso/UNIVESP/blob/main/BlackJack.ipynb\" target=\"_parent\"><img src=\"https://colab.research.google.com/assets/colab-badge.svg\" alt=\"Open In Colab\"/></a>"
      ]
    },
    {
      "cell_type": "code",
      "execution_count": 2,
      "metadata": {
        "id": "tunC5nUspMLO"
      },
      "outputs": [],
      "source": [
        "from random import shuffle"
      ]
    },
    {
      "cell_type": "code",
      "source": [
        "nape = ['Copas', 'Espada', 'Ouros', 'Paus']\n",
        "figuras = ['valete', 'dama', 'rei', 'as']\n",
        "valores = [2, 3, 4, 5, 6, 7, 8, 9, 10]\n",
        "cartas = figuras + valores\n",
        "baralho = []\n",
        "for n in nape:\n",
        "    for c in cartas:\n",
        "        baralho.append((c, n))\n",
        "shuffle(baralho)\n",
        "print(baralho)"
      ],
      "metadata": {
        "colab": {
          "base_uri": "https://localhost:8080/"
        },
        "id": "EtLFCmTLpYoK",
        "outputId": "68302018-560a-4da1-97ad-a4268194c5ee"
      },
      "execution_count": 3,
      "outputs": [
        {
          "output_type": "stream",
          "name": "stdout",
          "text": [
            "[('dama', 'Paus'), (6, 'Copas'), (3, 'Copas'), (2, 'Ouros'), (2, 'Copas'), (10, 'Ouros'), ('rei', 'Ouros'), (6, 'Paus'), (3, 'Espada'), ('as', 'Copas'), (4, 'Copas'), (10, 'Paus'), (3, 'Paus'), (7, 'Ouros'), ('valete', 'Ouros'), ('valete', 'Copas'), ('as', 'Espada'), ('as', 'Ouros'), ('rei', 'Copas'), ('as', 'Paus'), ('valete', 'Espada'), ('dama', 'Copas'), (8, 'Copas'), ('dama', 'Espada'), (9, 'Paus'), (2, 'Paus'), (6, 'Ouros'), ('rei', 'Paus'), (7, 'Paus'), (10, 'Copas'), (4, 'Ouros'), (9, 'Espada'), ('rei', 'Espada'), (4, 'Paus'), (8, 'Espada'), (5, 'Ouros'), (8, 'Paus'), (8, 'Ouros'), (4, 'Espada'), (5, 'Paus'), (2, 'Espada'), (7, 'Espada'), (9, 'Copas'), (5, 'Espada'), (7, 'Copas'), (3, 'Ouros'), (10, 'Espada'), (6, 'Espada'), ('valete', 'Paus'), (9, 'Ouros'), (5, 'Copas'), ('dama', 'Ouros')]\n"
          ]
        }
      ]
    },
    {
      "cell_type": "code",
      "source": [],
      "metadata": {
        "id": "7_sBR9r9qPid"
      },
      "execution_count": null,
      "outputs": []
    }
  ]
}